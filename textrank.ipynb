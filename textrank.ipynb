{
  "nbformat": 4,
  "nbformat_minor": 0,
  "metadata": {
    "colab": {
      "name": "textrank3.ipynb",
      "provenance": [],
      "collapsed_sections": []
    },
    "kernelspec": {
      "name": "python3",
      "display_name": "Python 3"
    },
    "language_info": {
      "name": "python"
    }
  },
  "cells": [
    {
      "cell_type": "markdown",
      "metadata": {
        "id": "EHrpDgjXj83X"
      },
      "source": [
        "Bhuvnesh Solanki, 1811057"
      ]
    },
    {
      "cell_type": "code",
      "metadata": {
        "id": "kRRayjY5eHbe"
      },
      "source": [
        "!pip install rouge\n",
        "!pip install newspaper3k"
      ],
      "execution_count": null,
      "outputs": []
    },
    {
      "cell_type": "code",
      "metadata": {
        "id": "-gZsawWod7oD"
      },
      "source": [
        "import numpy as np\n",
        "import re\n",
        "import nltk\n",
        "from nltk.corpus import stopwords\n",
        "from nltk.stem import WordNetLemmatizer\n",
        "from nltk.tokenize import sent_tokenize,word_tokenize\n",
        "from nltk.translate.bleu_score import sentence_bleu,SmoothingFunction\n",
        "from rouge import Rouge\n",
        "import networkx as nx\n",
        "from newspaper import Article\n",
        "from gensim.summarization.summarizer import summarize"
      ],
      "execution_count": 2,
      "outputs": []
    },
    {
      "cell_type": "code",
      "metadata": {
        "colab": {
          "base_uri": "https://localhost:8080/"
        },
        "id": "HV3LAb1_eaDt",
        "outputId": "4a04b032-50cc-46e8-eb67-f047348227e7"
      },
      "source": [
        "nltk.download('wordnet')\n",
        "nltk.download('punkt')\n",
        "nltk.download('stopwords')"
      ],
      "execution_count": 3,
      "outputs": [
        {
          "output_type": "stream",
          "name": "stdout",
          "text": [
            "[nltk_data] Downloading package wordnet to /root/nltk_data...\n",
            "[nltk_data]   Package wordnet is already up-to-date!\n",
            "[nltk_data] Downloading package punkt to /root/nltk_data...\n",
            "[nltk_data]   Package punkt is already up-to-date!\n",
            "[nltk_data] Downloading package stopwords to /root/nltk_data...\n",
            "[nltk_data]   Package stopwords is already up-to-date!\n"
          ]
        },
        {
          "output_type": "execute_result",
          "data": {
            "text/plain": [
              "True"
            ]
          },
          "metadata": {},
          "execution_count": 3
        }
      ]
    },
    {
      "cell_type": "code",
      "metadata": {
        "colab": {
          "base_uri": "https://localhost:8080/"
        },
        "id": "Ox3fn5mIeeQw",
        "outputId": "d1df21dd-5e52-4296-bfbc-9b374e65adab"
      },
      "source": [
        "from google.colab import drive\n",
        "drive.mount('/content/gdrive')"
      ],
      "execution_count": 4,
      "outputs": [
        {
          "output_type": "stream",
          "name": "stdout",
          "text": [
            "Drive already mounted at /content/gdrive; to attempt to forcibly remount, call drive.mount(\"/content/gdrive\", force_remount=True).\n"
          ]
        }
      ]
    },
    {
      "cell_type": "code",
      "metadata": {
        "id": "qFauwIg-fA5R"
      },
      "source": [
        "vec_path = '/content/gdrive/MyDrive/glove/glove.6B.100d.txt' # 300MB text file\n",
        "embeddings_file = open(vec_path, 'r')"
      ],
      "execution_count": 5,
      "outputs": []
    },
    {
      "cell_type": "code",
      "metadata": {
        "id": "9LUSWw5Ci2-N"
      },
      "source": [
        "paragraph = \"Subhas Chandra Bose was an Indian nationalist whose defiant patriotism made him a hero in India, but whose attempt during World War II to rid India of British rule with the help of Nazi Germany and Imperial Japan left a troubled legacy. The honorific Netaji , first applied in early 1942 to Bose in Germany by the Indian soldiers of the Indische Legion and by the German and Indian officials in the Special Bureau for India in Berlin, was later used throughout India. Bose had been a leader of the younger, radical, wing of the Indian National Congress in the late 1920s and 1930s, rising to become Congress President in 1938 and 1939. However, he was ousted from Congress leadership positions in 1939 following differences with Mahatma Gandhi and the Congress high command. He was subsequently placed under house arrest by the British before escaping from India in 1940. A 3,000-strong Free India Legion, comprising Indians captured by Erwin Rommel's Afrika Korps, was also formed to aid in a possible future German land invasion of India. By spring 1942, in light of Japanese victories in southeast Asia and changing German priorities, a German invasion of India became untenable, and Bose became keen to move to southeast Asia. Adolf Hitler, during his only meeting with Bose in late May 1942, suggested the same, and offered to arrange for a submarine. During this time Bose also became a father; his wife, or companion, Emilie Schenkl, whom he had met in 1934, gave birth to a baby girl in November 1942. Identifying strongly with the Axis powers, and no longer apologetically, Bose boarded a German submarine in February 1943. Off Madagascar, he was transferred to a Japanese submarine from which he disembarked in Japanese-held Sumatra in May 1943. Before long the Provisional Government of Free India, presided by Bose, was formed in the Japanese-occupied Andaman and Nicobar Islands. Bose had great drive and charisma—using popular Indian slogans, such as \\\"Jai Hind,\\\"—and the INA under Bose was a model of diversity by region, ethnicity, religion, and even gender. names of the two highest-ranking Indians in the councils of the British-Indian establishment, Lord Sinha of Raipur, Under Secretary of State for India and the first Indian to serve as governor of a province under the Raj, and Mr Bhupendranath Basu, a wealthy Calcutta solicitor and a member of the Council of India in London.\\\" Bose was eager to gain admission to a college at the University of Cambridge. However, it was already past the deadline for admission. With the help of some Indian students there and Mr. Reddaway, the Censor of Fitzwilliam Hall, a body run by the Non-Collegiate Students Board of the university, for making available the university\\'s education at an economical cost without formal admission to a college, Bose entered the register of the university on 19 November 1919. He chose the Mental and Moral Sciences Tripos and simultaneously set about preparing for the Civil Service exams. On 22 June 1939 Bose organised the All India Forward Bloc a faction within the Indian National Congress, aimed at consolidating the political left, but its main strength was in his home state, Bengal. In Germany, he was attached to the Special Bureau for India under Adam von Trott zu Solz which was responsible for broadcasting on the German-sponsored Azad Hind Radio. He founded the Free India Center in Berlin, and created the Indian Legion out of Indian prisoners of war who had previously fought for the British in North Africa prior to their capture by Axis forces. Spoken as a part of a motivational speech for the Indian National Army at a rally of Indians in Burma on 4 July 1944, Bose\\'s most famous quote was \\\"Give me blood, and I shall give you freedom!\\\" In this, he urged the people of India to join him in his fight against the British Raj. Spoken in Hindi, Bose's words are highly evocative. The troops of the INA were under the aegis of a provisional government, the Azad Hind Government, which came to produce its own currency, postage stamps, court and civil code, and was recognised by nine Axis states – Germany, Japan, Italian Social Republic, the Independent State of Croatia, Wang Jingwei regime in Nanjing, China, a provisional government of Burma, Manchukuo and Japanese-controlled Philippines. This attempt at conquering the Indian mainland had the Axis codename of Operation U-Go. During this operation, On 6 July 1944, in a speech broadcast by the Azad Hind Radio from Singapore, Bose addressed Mahatma Gandhi as the \\\"Father of the Nation\\\" and asked for his blessings and good wishes for the war he was fighting. Most affected were the young Tamil Indians from Malaya and Singapore, both men and women, who comprised the bulk of the civilians who had enlisted in the INA. The professional soldiers in the INA, most of whom were Punjabis, faced an uncertain future, with many fatalistically expecting reprisals from the British. In India the Indian National Congress\\'s official line was succinctly expressed in a letter Mohandas Karamchand Gandhi wrote to Rajkumari Amrit Kaur. Said Gandhi, \\\"Subhas Bose has died well. \\\"Netaji Subhash Chandra Bose in order to free India from the shackles of British imperialism organized the Azad Hind Government from outside the country on October 21, 1943. Netaji set up the Provisional Government of Independent India and transferred its headquarter at Rangoon on January 7, 1944. At the outset of the war, he left India, travelling to the Soviet Union, Nazi Germany and Imperial Japan, seeking an alliance with each of them to attack the British government in India. With Imperial Japanese assistance, he re-organised and later led the Azad Hind Fauj or Indian National Army , formed with Indian prisoners-of-war and plantation workers from British Malaya, Singapore, and other parts of Southeast Asia, against British forces.\""
      ],
      "execution_count": 6,
      "outputs": []
    },
    {
      "cell_type": "markdown",
      "metadata": {
        "id": "XoH2J6JvYzRD"
      },
      "source": [
        "Subhas Chandra Bose was an Indian nationalist whose defiant patriotism made him a hero in India, but whose attempt during World War II to rid India of British rule with the help of Nazi Germany and Imperial Japan left a troubled legacy. The honorific Netaji , first applied in early 1942 to Bose in Germany by the Indian soldiers of the Indische Legion and by the German and Indian officials in the Special Bureau for India in Berlin, was later used throughout India. Bose had been a leader of the younger, radical, wing of the Indian National Congress in the late 1920s and 1930s, rising to become Congress President in 1938 and 1939. However, he was ousted from Congress leadership positions in 1939 following differences with Mahatma Gandhi and the Congress high command. He was subsequently placed under house arrest by the British before escaping from India in 1940. A 3,000-strong Free India Legion, comprising Indians captured by Erwin Rommel's Afrika Korps, was also formed to aid in a possible future German land invasion of India. By spring 1942, in light of Japanese victories in southeast Asia and changing German priorities, a German invasion of India became untenable, and Bose became keen to move to southeast Asia. Adolf Hitler, during his only meeting with Bose in late May 1942, suggested the same, and offered to arrange for a submarine. During this time Bose also became a father; his wife, or companion, Emilie Schenkl, whom he had met in 1934, gave birth to a baby girl in November 1942. Identifying strongly with the Axis powers, and no longer apologetically, Bose boarded a German submarine in February 1943. Off Madagascar, he was transferred to a Japanese submarine from which he disembarked in Japanese-held Sumatra in May 1943. Before long the Provisional Government of Free India, presided by Bose, was formed in the Japanese-occupied Andaman and Nicobar Islands. Bose had great drive and charisma—using popular Indian slogans, such as \\\"Jai Hind,\\\"—and the INA under Bose was a model of diversity by region, ethnicity, religion, and even gender. names of the two highest-ranking Indians in the councils of the British-Indian establishment, Lord Sinha of Raipur, Under Secretary of State for India and the first Indian to serve as governor of a province under the Raj, and Mr Bhupendranath Basu, a wealthy Calcutta solicitor and a member of the Council of India in London.\\\" Bose was eager to gain admission to a college at the University of Cambridge. However, it was already past the deadline for admission. With the help of some Indian students there and Mr. Reddaway, the Censor of Fitzwilliam Hall, a body run by the Non-Collegiate Students Board of the university, for making available the university\\'s education at an economical cost without formal admission to a college, Bose entered the register of the university on 19 November 1919. He chose the Mental and Moral Sciences Tripos and simultaneously set about preparing for the Civil Service exams. On 22 June 1939 Bose organised the All India Forward Bloc a faction within the Indian National Congress, aimed at consolidating the political left, but its main strength was in his home state, Bengal. In Germany, he was attached to the Special Bureau for India under Adam von Trott zu Solz which was responsible for broadcasting on the German-sponsored Azad Hind Radio. He founded the Free India Center in Berlin, and created the Indian Legion out of Indian prisoners of war who had previously fought for the British in North Africa prior to their capture by Axis forces. Spoken as a part of a motivational speech for the Indian National Army at a rally of Indians in Burma on 4 July 1944, Bose\\'s most famous quote was \\\"Give me blood, and I shall give you freedom!\\\" In this, he urged the people of India to join him in his fight against the British Raj. Spoken in Hindi, Bose's words are highly evocative. The troops of the INA were under the aegis of a provisional government, the Azad Hind Government, which came to produce its own currency, postage stamps, court and civil code, and was recognised by nine Axis states – Germany, Japan, Italian Social Republic, the Independent State of Croatia, Wang Jingwei regime in Nanjing, China, a provisional government of Burma, Manchukuo and Japanese-controlled Philippines. This attempt at conquering the Indian mainland had the Axis codename of Operation U-Go. During this operation, On 6 July 1944, in a speech broadcast by the Azad Hind Radio from Singapore, Bose addressed Mahatma Gandhi as the \\\"Father of the Nation\\\" and asked for his blessings and good wishes for the war he was fighting. Most affected were the young Tamil Indians from Malaya and Singapore, both men and women, who comprised the bulk of the civilians who had enlisted in the INA. The professional soldiers in the INA, most of whom were Punjabis, faced an uncertain future, with many fatalistically expecting reprisals from the British. In India the Indian National Congress\\'s official line was succinctly expressed in a letter Mohandas Karamchand Gandhi wrote to Rajkumari Amrit Kaur. Said Gandhi, \\\"Subhas Bose has died well. \\\"Netaji Subhash Chandra Bose in order to free India from the shackles of British imperialism organized the Azad Hind Government from outside the country on October 21, 1943. Netaji set up the Provisional Government of Independent India and transferred its headquarter at Rangoon on January 7, 1944. At the outset of the war, he left India, travelling to the Soviet Union, Nazi Germany and Imperial Japan, seeking an alliance with each of them to attack the British government in India. With Imperial Japanese assistance, he re-organised and later led the Azad Hind Fauj or Indian National Army , formed with Indian prisoners-of-war and plantation workers from British Malaya, Singapore, and other parts of Southeast Asia, against British forces."
      ]
    },
    {
      "cell_type": "code",
      "metadata": {
        "id": "bZ5HJYJYfrnC"
      },
      "source": [
        "embeddings = dict()\n",
        "for line in embeddings_file:\n",
        "    values = line.split()\n",
        "    word = values[0]\n",
        "    coefs = np.asarray(values[1:], dtype='float64')\n",
        "    embeddings[word] = coefs"
      ],
      "execution_count": 7,
      "outputs": []
    },
    {
      "cell_type": "code",
      "metadata": {
        "id": "t79QB9lwhPom"
      },
      "source": [
        "def clean(sentence):\n",
        "    lem = WordNetLemmatizer()\n",
        "    sentence = sentence.lower()\n",
        "    sentence = re.sub(r'http\\S+',' ',sentence)\n",
        "    sentence = re.sub(r'[^a-zA-Z]',' ',sentence)\n",
        "    sentence = sentence.split()\n",
        "    sentence = [lem.lemmatize(word) for word in sentence if word not in stopwords.words('english')]\n",
        "    sentence = ' '.join(sentence)\n",
        "    return sentence"
      ],
      "execution_count": 8,
      "outputs": []
    },
    {
      "cell_type": "code",
      "metadata": {
        "id": "_a5mTfgwiCWq"
      },
      "source": [
        "def average_vector(sentence):\n",
        "    words = sentence.split()\n",
        "    size = len(words)\n",
        "    average_vector = np.zeros((size,100))\n",
        "    unknown_words=[]\n",
        "\n",
        "    for index, word in enumerate(words):\n",
        "        try:\n",
        "            average_vector[index] = embeddings[word].reshape(1,-1)\n",
        "        except Exception as e:\n",
        "            unknown_words.append(word)\n",
        "            average_vector[index] = 0\n",
        "\n",
        "    if size != 0:\n",
        "        average_vector = sum(average_vector)/size\n",
        "    return average_vector,unknown_words"
      ],
      "execution_count": 9,
      "outputs": []
    },
    {
      "cell_type": "code",
      "metadata": {
        "id": "4_znOVN9l2OW"
      },
      "source": [
        "def cosine_similarity(s1, s2):\n",
        "    v1, _ = average_vector(s1)\n",
        "    v2, _ = average_vector(s2)\n",
        "    cos_sim = 0\n",
        "    try:\n",
        "        cos_sim = (np.dot(v1,v2)/(np.linalg.norm(v1)*np.linalg.norm(v2)))\n",
        "    except Exception as e :\n",
        "        pass\n",
        "    return cos_sim"
      ],
      "execution_count": 10,
      "outputs": []
    },
    {
      "cell_type": "code",
      "metadata": {
        "id": "Hh0Z5CvsFkND"
      },
      "source": [
        "def page_rank(M, d = 0.85, iters = 100): #self-implemented PageRank function\n",
        "  N = M.shape[1]\n",
        "  col_sums = M.sum(axis=0)\n",
        "  M_norm = M / col_sums[np.newaxis, :] # Normalizing along columns\n",
        "  ranks = np.full((N,1), 1/N)\n",
        "  M_hat = (d * M_norm + (1 - d) / N)\n",
        "\n",
        "  for i in range(iters):\n",
        "    ranks = M_hat @ ranks\n",
        "  \n",
        "  ranks = ranks.flatten()\n",
        "  return ranks"
      ],
      "execution_count": 11,
      "outputs": []
    },
    {
      "cell_type": "code",
      "metadata": {
        "id": "jofUaB8qmx17"
      },
      "source": [
        "sentences = sent_tokenize(paragraph)\n",
        "cleaned_sentences=[]\n",
        "for sentence in sentences:\n",
        "    cleaned_sentences.append(clean(sentence))\n",
        "similarity_matrix = np.zeros((len(cleaned_sentences),len(cleaned_sentences)))\n",
        "\n",
        "for i in range(0,len(cleaned_sentences)):\n",
        "    for j in range(0,len(cleaned_sentences)):\n",
        "        if i!=j and type(cosine_similarity(cleaned_sentences[i],cleaned_sentences[j])) == np.float64 :\n",
        "            similarity_matrix[i,j] = cosine_similarity(cleaned_sentences[i],cleaned_sentences[j])"
      ],
      "execution_count": 12,
      "outputs": []
    },
    {
      "cell_type": "code",
      "metadata": {
        "colab": {
          "base_uri": "https://localhost:8080/"
        },
        "id": "PD-eyBwJnu_L",
        "outputId": "17dbd54b-e7af-4ec8-c34d-eadbbf4875ac"
      },
      "source": [
        "similarity_matrix"
      ],
      "execution_count": 13,
      "outputs": [
        {
          "output_type": "execute_result",
          "data": {
            "text/plain": [
              "array([[0.        , 0.89669605, 0.86672357, ..., 0.76367769, 0.93789143,\n",
              "        0.880728  ],\n",
              "       [0.89669605, 0.        , 0.81797652, ..., 0.83477938, 0.88975919,\n",
              "        0.90670369],\n",
              "       [0.86672357, 0.81797652, 0.        , ..., 0.75647581, 0.81650643,\n",
              "        0.83164471],\n",
              "       ...,\n",
              "       [0.76367769, 0.83477938, 0.75647581, ..., 0.        , 0.79897803,\n",
              "        0.8265946 ],\n",
              "       [0.93789143, 0.88975919, 0.81650643, ..., 0.79897803, 0.        ,\n",
              "        0.90942292],\n",
              "       [0.880728  , 0.90670369, 0.83164471, ..., 0.8265946 , 0.90942292,\n",
              "        0.        ]])"
            ]
          },
          "metadata": {},
          "execution_count": 13
        }
      ]
    },
    {
      "cell_type": "code",
      "metadata": {
        "id": "XSaIfpx6nyk2"
      },
      "source": [
        "# nx_graph = nx.from_numpy_array(similarity_matrix)\n",
        "# scores = nx.pagerank(nx_graph)\n",
        "\n",
        "scores = page_rank(similarity_matrix)"
      ],
      "execution_count": 14,
      "outputs": []
    },
    {
      "cell_type": "code",
      "metadata": {
        "id": "Mr6WbLB1oSS0"
      },
      "source": [
        "ranked_sentences = sorted(((scores[i],s) for i,s in enumerate(sentences)), reverse=True)"
      ],
      "execution_count": 15,
      "outputs": []
    },
    {
      "cell_type": "code",
      "metadata": {
        "colab": {
          "base_uri": "https://localhost:8080/"
        },
        "id": "oFOtkQR9og-k",
        "outputId": "0a13399c-596c-405e-ffb8-7c7acc711229"
      },
      "source": [
        "# Specify number of sentences\n",
        "sn = 10\n",
        "\n",
        "# Generate summary\n",
        "for i in range(sn):\n",
        "  print(ranked_sentences[i][1])"
      ],
      "execution_count": 16,
      "outputs": [
        {
          "output_type": "stream",
          "name": "stdout",
          "text": [
            "The honorific Netaji , first applied in early 1942 to Bose in Germany by the Indian soldiers of the Indische Legion and by the German and Indian officials in the Special Bureau for India in Berlin, was later used throughout India.\n",
            "He founded the Free India Center in Berlin, and created the Indian Legion out of Indian prisoners of war who had previously fought for the British in North Africa prior to their capture by Axis forces.\n",
            "Subhas Chandra Bose was an Indian nationalist whose defiant patriotism made him a hero in India, but whose attempt during World War II to rid India of British rule with the help of Nazi Germany and Imperial Japan left a troubled legacy.\n",
            "With Imperial Japanese assistance, he re-organised and later led the Azad Hind Fauj or Indian National Army , formed with Indian prisoners-of-war and plantation workers from British Malaya, Singapore, and other parts of Southeast Asia, against British forces.\n",
            "Spoken as a part of a motivational speech for the Indian National Army at a rally of Indians in Burma on 4 July 1944, Bose's most famous quote was \"Give me blood, and I shall give you freedom!\"\n",
            "On 22 June 1939 Bose organised the All India Forward Bloc a faction within the Indian National Congress, aimed at consolidating the political left, but its main strength was in his home state, Bengal.\n",
            "During this operation, On 6 July 1944, in a speech broadcast by the Azad Hind Radio from Singapore, Bose addressed Mahatma Gandhi as the \"Father of the Nation\" and asked for his blessings and good wishes for the war he was fighting.\n",
            "At the outset of the war, he left India, travelling to the Soviet Union, Nazi Germany and Imperial Japan, seeking an alliance with each of them to attack the British government in India.\n",
            "A 3,000-strong Free India Legion, comprising Indians captured by Erwin Rommel's Afrika Korps, was also formed to aid in a possible future German land invasion of India.\n",
            "By spring 1942, in light of Japanese victories in southeast Asia and changing German priorities, a German invasion of India became untenable, and Bose became keen to move to southeast Asia.\n"
          ]
        }
      ]
    },
    {
      "cell_type": "code",
      "metadata": {
        "id": "v1Z-GO79qMjk"
      },
      "source": [
        "def textrank_summarise(paragraph, no_of_sentences): # self-implemented summarization function based on TextRank\n",
        "    \n",
        "    sentences = sent_tokenize(paragraph)\n",
        "    cleaned_sentences=[]\n",
        "    for sentence in sentences:\n",
        "        cleaned_sentences.append(clean(sentence))\n",
        "    similarity_matrix = np.zeros((len(cleaned_sentences),len(cleaned_sentences)))\n",
        "\n",
        "    for i in range(0,len(cleaned_sentences)):\n",
        "        for j in range(0,len(cleaned_sentences)):\n",
        "            if i!=j and type(cosine_similarity(cleaned_sentences[i],cleaned_sentences[j])) == np.float64 :\n",
        "                similarity_matrix[i,j] = cosine_similarity(cleaned_sentences[i],cleaned_sentences[j])\n",
        "    \n",
        "    # nx_graph = nx.from_numpy_array(similarity_matrix)\n",
        "    # scores = nx.pagerank(nx_graph)\n",
        "\n",
        "    scores = page_rank(similarity_matrix)\n",
        "\n",
        "    ranked_sentences = sorted(((scores[i],s) for i,s in enumerate(sentences)), reverse=True)\n",
        "\n",
        "    summary = \"\"\n",
        "    \n",
        "    for i in range(no_of_sentences):\n",
        "      summary+=ranked_sentences[i][1]\n",
        "    \n",
        "    summary = summary.strip()\n",
        "    \n",
        "    return summary"
      ],
      "execution_count": 17,
      "outputs": []
    },
    {
      "cell_type": "code",
      "metadata": {
        "id": "2oaItK-SrIhR"
      },
      "source": [
        "\n",
        "par = \"Keeping with his practice of spending time with soldiers on Diwali, Prime Minister Narendra Modi on Saturday addressed troops at Longewala Post in which he asserted that India will give “prachand jawab” (fierce reply) if it is provoked. Mr. Modi said, without naming any country, that the entire world feels troubled by “expansionist” forces and expansionism shows a “distorted mindset” which belongs to 18th century. “India believes in policy of understanding others and making them understand but if an attempt to test it is made, then the country will give a fierce reply,” he asserted. His message comes amid the continuing standoff with China at Ladakh border. “No force in the world can prevent our soldiers from protecting our borders,” he said, adding that India has shown that it has strength and the political will to give a befitting reply to those challenging it. “The world now knows that India will not compromise with its interests even one bit,” he said. Also read | Adversaries may take advantage if we do not have strong armed forces: Gen. Bipin Rawat Referring to his custom of celebrating Diwali with soldiers since he assumed office in 2014, Mr. Modi said his resolve to serve and protect the country becomes stronger by spending more time with them. He also urged troops to innovate, practise yoga and learn an Indian language they don’t know from colleagues. On the occasion, he recalled the fierce fight the post had witnessed in the 1971 war against Pakistan and paid tributes to Brig Kuldeep Singh Chandpuri, a hero of the battle, saying he became “rashtra deep” with his feat of bravery. The war was also an example of exemplary coordination among Army, Navy and Air Force, he said. India had defeated Pakistan in the war, leading to the independence of Bangladesh. Keeping with his practice of spending time with soldiers on Diwali, Prime Minister Narendra Modi on Saturday addressed troops at Longewala Post in which he asserted that India will give “prachand jawab” if it is provoked. Mr. Modi said, without naming any country, that the entire world feels troubled by “expansionist” forces and expansionism shows a “distorted mindset” which belongs to 18th century. “India believes in policy of understanding others and making them understand but if an attempt to test it is made, then the country will give a fierce reply,” he asserted. “No force in the world can prevent our soldiers from protecting our borders,” he said, adding that India has shown that it has strength and the political will to give a befitting reply to those challenging it. “The world now knows that India will not compromise with its interests even one bit,” he said.\"\n",
        "summ = textrank_summarise(par, 10)"
      ],
      "execution_count": 18,
      "outputs": []
    },
    {
      "cell_type": "code",
      "metadata": {
        "id": "QenDd4LQrRnH"
      },
      "source": [
        "def rouge(original, generated):\n",
        "    rouge = Rouge()\n",
        "    score = rouge.get_scores(original,generated)\n",
        "    rouge1f = score[0]['rouge-1']['f']\n",
        "    rouge1p = score[0]['rouge-1']['p']\n",
        "    rouge1r = score[0]['rouge-1']['r']\n",
        "    rouge2f = score[0]['rouge-2']['f']\n",
        "    rouge2p = score[0]['rouge-2']['p']\n",
        "    rouge2r = score[0]['rouge-2']['r']\n",
        "    rougelf = score[0]['rouge-l']['f']\n",
        "    rougelp = score[0]['rouge-l']['p']\n",
        "    rougelr = score[0]['rouge-l']['r']\n",
        "    \n",
        "    return (rouge1f, rouge1p, rouge1r), (rouge2f, rouge2p, rouge2r), (rougelf, rougelp, rougelr)"
      ],
      "execution_count": 19,
      "outputs": []
    },
    {
      "cell_type": "code",
      "metadata": {
        "colab": {
          "base_uri": "https://localhost:8080/"
        },
        "id": "LrjEETXMreds",
        "outputId": "f2d518e5-3671-4f0a-8c86-932f1d0c07e4"
      },
      "source": [
        "(f11, precision1, recall1), (f12, precision2, recall2), (f1l, precisionl, recalll)  = rouge(par, summ)\n",
        "\n",
        "print(f\"ROUGE-1 Scores\\nPrecision: {precision1}\\nRecall: {recall1}\\nF-1 Score: {f11}\\n\\n\")\n",
        "print(f\"ROUGE-2 Scores\\nPrecision: {precision2}\\nRecall: {recall2}\\nF-1 Score: {f12}\\n\\n\")\n",
        "print(f\"ROUGE-L Scores\\nPrecision: {precisionl}\\nRecall: {recalll}\\nF-1 Score: {f1l}\")"
      ],
      "execution_count": 20,
      "outputs": [
        {
          "output_type": "stream",
          "name": "stdout",
          "text": [
            "ROUGE-1 Scores\n",
            "Precision: 0.6852791878172588\n",
            "Recall: 1.0\n",
            "F-1 Score: 0.813253007222565\n",
            "\n",
            "\n",
            "ROUGE-2 Scores\n",
            "Precision: 0.6366782006920415\n",
            "Recall: 0.9533678756476683\n",
            "F-1 Score: 0.763485472376767\n",
            "\n",
            "\n",
            "ROUGE-L Scores\n",
            "Precision: 0.6852791878172588\n",
            "Recall: 1.0\n",
            "F-1 Score: 0.813253007222565\n"
          ]
        }
      ]
    },
    {
      "cell_type": "code",
      "metadata": {
        "id": "4xbYRuU1rj3G"
      },
      "source": [
        "url = \"https://www.theguardian.com/politics/2021/jun/04/uk-strikes-trade-deal-norway-iceland-liechtenstein-liz-truss\" # Example news article\n",
        "article = Article(url)\n",
        "article.download()\n",
        "article.parse()"
      ],
      "execution_count": 21,
      "outputs": []
    },
    {
      "cell_type": "code",
      "metadata": {
        "colab": {
          "base_uri": "https://localhost:8080/",
          "height": 35
        },
        "id": "WzOnkU267Aix",
        "outputId": "632dc972-f81d-46f8-a7ea-6193c25cc325"
      },
      "source": [
        "article.title"
      ],
      "execution_count": 22,
      "outputs": [
        {
          "output_type": "execute_result",
          "data": {
            "application/vnd.google.colaboratory.intrinsic+json": {
              "type": "string"
            },
            "text/plain": [
              "'UK strikes trade deal with Norway, Iceland and Liechtenstein'"
            ]
          },
          "metadata": {},
          "execution_count": 22
        }
      ]
    },
    {
      "cell_type": "code",
      "metadata": {
        "colab": {
          "base_uri": "https://localhost:8080/"
        },
        "id": "KP7BQCvnuL2a",
        "outputId": "0c66ca81-cc5b-46c3-a377-2e1e1232f5e8"
      },
      "source": [
        "article.authors"
      ],
      "execution_count": 23,
      "outputs": [
        {
          "output_type": "execute_result",
          "data": {
            "text/plain": [
              "['Daniel Boffey']"
            ]
          },
          "metadata": {},
          "execution_count": 23
        }
      ]
    },
    {
      "cell_type": "code",
      "metadata": {
        "colab": {
          "base_uri": "https://localhost:8080/"
        },
        "id": "l5wrMtgKuP2j",
        "outputId": "c6ecf682-5688-4b43-e8d5-9129a548ddea"
      },
      "source": [
        "article.publish_date"
      ],
      "execution_count": 24,
      "outputs": [
        {
          "output_type": "execute_result",
          "data": {
            "text/plain": [
              "datetime.datetime(2021, 6, 4, 0, 0)"
            ]
          },
          "metadata": {},
          "execution_count": 24
        }
      ]
    },
    {
      "cell_type": "code",
      "metadata": {
        "colab": {
          "base_uri": "https://localhost:8080/"
        },
        "id": "FlIvQt0YuWeO",
        "outputId": "9c130b1e-6c32-4dc3-acb2-8e98821f745c"
      },
      "source": [
        "nos = len(sent_tokenize(article.text))\n",
        "nos"
      ],
      "execution_count": 25,
      "outputs": [
        {
          "output_type": "execute_result",
          "data": {
            "text/plain": [
              "26"
            ]
          },
          "metadata": {},
          "execution_count": 25
        }
      ]
    },
    {
      "cell_type": "code",
      "metadata": {
        "id": "DBZkyivUu-_H"
      },
      "source": [
        "summ2 = textrank_summarise(article.text, len(sent_tokenize(article.text))//3)"
      ],
      "execution_count": 26,
      "outputs": []
    },
    {
      "cell_type": "code",
      "metadata": {
        "colab": {
          "base_uri": "https://localhost:8080/"
        },
        "id": "kQ35RkLDvM0o",
        "outputId": "9f6a0cd6-9c78-4db4-9a68-88240c39bdce"
      },
      "source": [
        "print(summ2)"
      ],
      "execution_count": 27,
      "outputs": [
        {
          "output_type": "stream",
          "name": "stdout",
          "text": [
            "She offered words of caution, however, conceding on Friday that there would be extra costs for businesses on both sides which had been used to trading with the UK when it was an EU member state.After months of difficult talks, the comprehensive trade deal was hailed by both the UK and Norwegian governments as being pioneering in its scope and measures, with tariff-free trade in industrial goods secured.“If more British beef and cheese had come to Norway, even more Norwegian farms may have to be closed down.”\n",
            "\n",
            "Since the UK left the single market in January, the country’s trade with Norway, Iceland and Liechtenstein has been covered by a continuity deal that covered goods but both sides had sought to further open up flows in key areas as well.David Henig, a former UK government trade official who is now director of the UK Trade Policy Project, said: “This UK-EEA free trade agreement provides better trading conditions than World Trade Organization terms, though with considerably more trade barriers when compared with the previous single market relationship.A key dynamic in the trade negotiations had been the UK’s demands for greater access to the Norwegian market for its meat and diary products while Norway had hoped of better terms of trade for its seafood.“There are some useful provisions for UK business such as on professional qualifications or digital trade, but there will also be many difficulties as we see with the similar UK-EU trade and cooperation agreement.Norway’s government, meanwhile, celebrated securing the same trading relationship in goods with the UK as the EU under its trade and cooperation agreement and that there will be zero duty on frozen peeled shrimp from 1 January 2023, a key export.Without a veterinary agreement there would be more red tape for those exporting animal and plant products, she said, and the lack of mutual recognition of changes in the two sides’ regulatory frameworks would demand further talks in future.\n"
          ]
        }
      ]
    },
    {
      "cell_type": "code",
      "metadata": {
        "colab": {
          "base_uri": "https://localhost:8080/"
        },
        "id": "DwlcK_BqvOrE",
        "outputId": "823de510-02d2-4b3d-bcfc-8ccf8d748d3a"
      },
      "source": [
        "type(summ2)"
      ],
      "execution_count": 28,
      "outputs": [
        {
          "output_type": "execute_result",
          "data": {
            "text/plain": [
              "str"
            ]
          },
          "metadata": {},
          "execution_count": 28
        }
      ]
    },
    {
      "cell_type": "code",
      "metadata": {
        "id": "vX6MfcsmwA-d"
      },
      "source": [
        "data = article.text.splitlines()\n",
        "del data[0:4]\n",
        "ftext = ' '.join(data)"
      ],
      "execution_count": 29,
      "outputs": []
    },
    {
      "cell_type": "code",
      "metadata": {
        "id": "AsdoQQHuwB4o"
      },
      "source": [
        "summ3 = summarize(ftext, ratio=0.333) # Gensim's summarization function"
      ],
      "execution_count": 30,
      "outputs": []
    },
    {
      "cell_type": "code",
      "metadata": {
        "colab": {
          "base_uri": "https://localhost:8080/"
        },
        "id": "4gBWfBczAdMe",
        "outputId": "31747fe0-fe76-457b-b184-4f1eb6ba36ea"
      },
      "source": [
        "print(summ3)"
      ],
      "execution_count": 31,
      "outputs": [
        {
          "output_type": "stream",
          "name": "stdout",
          "text": [
            "Under the deal, Norway has reduced its duties in 26 areas of agriculture, which includes provisions to allow a quantity of West Country farmhouse cheddar, Orkney Scottish Island cheddar, traditional Welsh caerphilly, and Yorkshire wensleydale cheese to avoid full 277% export tariffs.\n",
            "Norway’s government, meanwhile, celebrated securing the same trading relationship in goods with the UK as the EU under its trade and cooperation agreement and that there will be zero duty on frozen peeled shrimp from 1 January 2023, a key export.\n",
            "“The agreement entails a continuation of all previous tariff preferences for seafood and improved market access for whitefish, shrimp and several other products,” said Odd Emil Ingebrigtsen, Norway’s fisheries minister.\n",
            "A key dynamic in the trade negotiations had been the UK’s demands for greater access to the Norwegian market for its meat and diary products while Norway had hoped of better terms of trade for its seafood.\n",
            "As details of the deal emerged, Norwegian fishermen complained about the level access for its seafood in the UK market while British farmers had little to celebrate.\n",
            "“If more British beef and cheese had come to Norway, even more Norwegian farms may have to be closed down.”  Since the UK left the single market in January, the country’s trade with Norway, Iceland and Liechtenstein has been covered by a continuity deal that covered goods but both sides had sought to further open up flows in key areas as well.\n",
            "David Henig, a former UK government trade official who is now director of the UK Trade Policy Project, said: “This UK-EEA free trade agreement provides better trading conditions than World Trade Organization terms, though with considerably more trade barriers when compared with the previous single market relationship.\n"
          ]
        }
      ]
    },
    {
      "cell_type": "markdown",
      "metadata": {
        "id": "nhGxOPP42wdw"
      },
      "source": [
        "##Results"
      ]
    },
    {
      "cell_type": "code",
      "metadata": {
        "colab": {
          "base_uri": "https://localhost:8080/"
        },
        "id": "9hJtKbkKvj9k",
        "outputId": "39722e73-02c6-4d42-ae2f-d57d4175b2d3"
      },
      "source": [
        "(f11, precision1, recall1), (f12, precision2, recall2), (f1l, precisionl, recalll)  = rouge(article.text, summ2)\n",
        "\n",
        "print(f\"ROUGE-1 Scores\\nPrecision: {precision1}\\nRecall: {recall1}\\nF-1 Score: {f11}\\n\\n\")\n",
        "print(f\"ROUGE-2 Scores\\nPrecision: {precision2}\\nRecall: {recall2}\\nF-1 Score: {f12}\\n\\n\")\n",
        "print(f\"ROUGE-L Scores\\nPrecision: {precisionl}\\nRecall: {recalll}\\nF-1 Score: {f1l}\")"
      ],
      "execution_count": 32,
      "outputs": [
        {
          "output_type": "stream",
          "name": "stdout",
          "text": [
            "ROUGE-1 Scores\n",
            "Precision: 0.4669811320754717\n",
            "Recall: 1.0\n",
            "F-1 Score: 0.6366559442131492\n",
            "\n",
            "\n",
            "ROUGE-2 Scores\n",
            "Precision: 0.39248704663212436\n",
            "Recall: 0.9774193548387097\n",
            "F-1 Score: 0.5600739330650094\n",
            "\n",
            "\n",
            "ROUGE-L Scores\n",
            "Precision: 0.4669811320754717\n",
            "Recall: 1.0\n",
            "F-1 Score: 0.6366559442131492\n"
          ]
        }
      ]
    },
    {
      "cell_type": "code",
      "metadata": {
        "colab": {
          "base_uri": "https://localhost:8080/"
        },
        "id": "xI3-SJ46wO0Q",
        "outputId": "ac706b9a-a645-4fff-8630-46a51f755f23"
      },
      "source": [
        "(f11, precision1, recall1), (f12, precision2, recall2), (f1l, precisionl, recalll)  = rouge(ftext, summ3)\n",
        "\n",
        "print(f\"ROUGE-1 Scores\\nPrecision: {precision1}\\nRecall: {recall1}\\nF-1 Score: {f11}\\n\\n\")\n",
        "print(f\"ROUGE-2 Scores\\nPrecision: {precision2}\\nRecall: {recall2}\\nF-1 Score: {f12}\\n\\n\")\n",
        "print(f\"ROUGE-L Scores\\nPrecision: {precisionl}\\nRecall: {recalll}\\nF-1 Score: {f1l}\")"
      ],
      "execution_count": 33,
      "outputs": [
        {
          "output_type": "stream",
          "name": "stdout",
          "text": [
            "ROUGE-1 Scores\n",
            "Precision: 0.44862155388471175\n",
            "Recall: 1.0\n",
            "F-1 Score: 0.6193771583541265\n",
            "\n",
            "\n",
            "ROUGE-2 Scores\n",
            "Precision: 0.379746835443038\n",
            "Recall: 0.9818181818181818\n",
            "F-1 Score: 0.5476673387768517\n",
            "\n",
            "\n",
            "ROUGE-L Scores\n",
            "Precision: 0.44862155388471175\n",
            "Recall: 1.0\n",
            "F-1 Score: 0.6193771583541265\n"
          ]
        }
      ]
    },
    {
      "cell_type": "markdown",
      "metadata": {
        "id": "IYNHW-Fpx7Yn"
      },
      "source": [
        "summ2 was the summary generated using our own textrank_summarize function.\n",
        "summ3 was the summary generated using the summarize function from gensim library. Both had same ratio: 0.33.\n",
        "As we can see from the rouge scores above, our method has comparable summarization quality to that generated from gensim. However, the gensim function provides a more fluent and human-like summary"
      ]
    }
  ]
}