{
  "nbformat": 4,
  "nbformat_minor": 0,
  "metadata": {
    "colab": {
      "name": "textrank4.ipynb",
      "provenance": [],
      "collapsed_sections": []
    },
    "kernelspec": {
      "name": "python3",
      "display_name": "Python 3"
    },
    "language_info": {
      "name": "python"
    }
  },
  "cells": [
    {
      "cell_type": "markdown",
      "metadata": {
        "id": "EHrpDgjXj83X"
      },
      "source": [
        "Bhuvnesh Solanki"
      ]
    },
    {
      "cell_type": "code",
      "metadata": {
        "id": "kRRayjY5eHbe"
      },
      "source": [
        "#!pip install rouge\n",
        "#!pip install newspaper3k"
      ],
      "execution_count": null,
      "outputs": []
    },
    {
      "cell_type": "code",
      "metadata": {
        "id": "-gZsawWod7oD"
      },
      "source": [
        "import numpy as np\n",
        "import re\n",
        "import nltk\n",
        "from nltk.corpus import stopwords\n",
        "from nltk.stem import WordNetLemmatizer\n",
        "from nltk.tokenize import sent_tokenize,word_tokenize\n",
        "from nltk.translate.bleu_score import sentence_bleu,SmoothingFunction\n",
        "from rouge import Rouge\n",
        "import networkx as nx\n",
        "from newspaper import Article\n",
        "from gensim.summarization.summarizer import summarize"
      ],
      "execution_count": null,
      "outputs": []
    },
    {
      "cell_type": "code",
      "metadata": {
        "colab": {
          "base_uri": "https://localhost:8080/"
        },
        "id": "HV3LAb1_eaDt",
        "outputId": "9c32fdc6-1dce-47dd-bb0b-a43936fcc9b5"
      },
      "source": [
        "nltk.download('wordnet')\n",
        "nltk.download('punkt')\n",
        "nltk.download('stopwords')"
      ],
      "execution_count": null,
      "outputs": [
        {
          "output_type": "stream",
          "text": [
            "[nltk_data] Downloading package wordnet to /root/nltk_data...\n",
            "[nltk_data]   Unzipping corpora/wordnet.zip.\n",
            "[nltk_data] Downloading package punkt to /root/nltk_data...\n",
            "[nltk_data]   Unzipping tokenizers/punkt.zip.\n",
            "[nltk_data] Downloading package stopwords to /root/nltk_data...\n",
            "[nltk_data]   Unzipping corpora/stopwords.zip.\n"
          ],
          "name": "stdout"
        },
        {
          "output_type": "execute_result",
          "data": {
            "text/plain": [
              "True"
            ]
          },
          "metadata": {
            "tags": []
          },
          "execution_count": 4
        }
      ]
    },
    {
      "cell_type": "code",
      "metadata": {
        "colab": {
          "base_uri": "https://localhost:8080/"
        },
        "id": "Ox3fn5mIeeQw",
        "outputId": "52a2aa70-025f-4601-acef-5e9838e730f3"
      },
      "source": [
        "from google.colab import drive\n",
        "drive.mount('/content/gdrive')"
      ],
      "execution_count": null,
      "outputs": [
        {
          "output_type": "stream",
          "text": [
            "Mounted at /content/gdrive\n"
          ],
          "name": "stdout"
        }
      ]
    },
    {
      "cell_type": "code",
      "metadata": {
        "id": "qFauwIg-fA5R"
      },
      "source": [
        "vec_path = '/content/gdrive/MyDrive/glove/glove.6B.100d.txt' # 300MB text file\n",
        "embeddings_file = open(vec_path, 'r')"
      ],
      "execution_count": null,
      "outputs": []
    },
    {
      "cell_type": "code",
      "metadata": {
        "id": "9LUSWw5Ci2-N"
      },
      "source": [
        "paragraph = \"Subhas Chandra Bose was an Indian nationalist whose defiant patriotism made him a hero in India, but whose attempt during World War II to rid India of British rule with the help of Nazi Germany and Imperial Japan left a troubled legacy. The honorific Netaji , first applied in early 1942 to Bose in Germany by the Indian soldiers of the Indische Legion and by the German and Indian officials in the Special Bureau for India in Berlin, was later used throughout India. Bose had been a leader of the younger, radical, wing of the Indian National Congress in the late 1920s and 1930s, rising to become Congress President in 1938 and 1939. However, he was ousted from Congress leadership positions in 1939 following differences with Mahatma Gandhi and the Congress high command. He was subsequently placed under house arrest by the British before escaping from India in 1940. A 3,000-strong Free India Legion, comprising Indians captured by Erwin Rommel's Afrika Korps, was also formed to aid in a possible future German land invasion of India. By spring 1942, in light of Japanese victories in southeast Asia and changing German priorities, a German invasion of India became untenable, and Bose became keen to move to southeast Asia. Adolf Hitler, during his only meeting with Bose in late May 1942, suggested the same, and offered to arrange for a submarine. During this time Bose also became a father; his wife, or companion, Emilie Schenkl, whom he had met in 1934, gave birth to a baby girl in November 1942. Identifying strongly with the Axis powers, and no longer apologetically, Bose boarded a German submarine in February 1943. Off Madagascar, he was transferred to a Japanese submarine from which he disembarked in Japanese-held Sumatra in May 1943. Before long the Provisional Government of Free India, presided by Bose, was formed in the Japanese-occupied Andaman and Nicobar Islands. Bose had great drive and charisma—using popular Indian slogans, such as \\\"Jai Hind,\\\"—and the INA under Bose was a model of diversity by region, ethnicity, religion, and even gender. names of the two highest-ranking Indians in the councils of the British-Indian establishment, Lord Sinha of Raipur, Under Secretary of State for India and the first Indian to serve as governor of a province under the Raj, and Mr Bhupendranath Basu, a wealthy Calcutta solicitor and a member of the Council of India in London.\\\" Bose was eager to gain admission to a college at the University of Cambridge. However, it was already past the deadline for admission. With the help of some Indian students there and Mr. Reddaway, the Censor of Fitzwilliam Hall, a body run by the Non-Collegiate Students Board of the university, for making available the university\\'s education at an economical cost without formal admission to a college, Bose entered the register of the university on 19 November 1919. He chose the Mental and Moral Sciences Tripos and simultaneously set about preparing for the Civil Service exams. On 22 June 1939 Bose organised the All India Forward Bloc a faction within the Indian National Congress, aimed at consolidating the political left, but its main strength was in his home state, Bengal. In Germany, he was attached to the Special Bureau for India under Adam von Trott zu Solz which was responsible for broadcasting on the German-sponsored Azad Hind Radio. He founded the Free India Center in Berlin, and created the Indian Legion out of Indian prisoners of war who had previously fought for the British in North Africa prior to their capture by Axis forces. Spoken as a part of a motivational speech for the Indian National Army at a rally of Indians in Burma on 4 July 1944, Bose\\'s most famous quote was \\\"Give me blood, and I shall give you freedom!\\\" In this, he urged the people of India to join him in his fight against the British Raj. Spoken in Hindi, Bose's words are highly evocative. The troops of the INA were under the aegis of a provisional government, the Azad Hind Government, which came to produce its own currency, postage stamps, court and civil code, and was recognised by nine Axis states – Germany, Japan, Italian Social Republic, the Independent State of Croatia, Wang Jingwei regime in Nanjing, China, a provisional government of Burma, Manchukuo and Japanese-controlled Philippines. This attempt at conquering the Indian mainland had the Axis codename of Operation U-Go. During this operation, On 6 July 1944, in a speech broadcast by the Azad Hind Radio from Singapore, Bose addressed Mahatma Gandhi as the \\\"Father of the Nation\\\" and asked for his blessings and good wishes for the war he was fighting. Most affected were the young Tamil Indians from Malaya and Singapore, both men and women, who comprised the bulk of the civilians who had enlisted in the INA. The professional soldiers in the INA, most of whom were Punjabis, faced an uncertain future, with many fatalistically expecting reprisals from the British. In India the Indian National Congress\\'s official line was succinctly expressed in a letter Mohandas Karamchand Gandhi wrote to Rajkumari Amrit Kaur. Said Gandhi, \\\"Subhas Bose has died well. \\\"Netaji Subhash Chandra Bose in order to free India from the shackles of British imperialism organized the Azad Hind Government from outside the country on October 21, 1943. Netaji set up the Provisional Government of Independent India and transferred its headquarter at Rangoon on January 7, 1944. At the outset of the war, he left India, travelling to the Soviet Union, Nazi Germany and Imperial Japan, seeking an alliance with each of them to attack the British government in India. With Imperial Japanese assistance, he re-organised and later led the Azad Hind Fauj or Indian National Army , formed with Indian prisoners-of-war and plantation workers from British Malaya, Singapore, and other parts of Southeast Asia, against British forces.\""
      ],
      "execution_count": null,
      "outputs": []
    },
    {
      "cell_type": "code",
      "metadata": {
        "id": "bZ5HJYJYfrnC"
      },
      "source": [
        "embeddings = dict()\n",
        "for line in embeddings_file:\n",
        "    values = line.split()\n",
        "    word = values[0]\n",
        "    coefs = np.asarray(values[1:], dtype='float64')\n",
        "    embeddings[word] = coefs"
      ],
      "execution_count": null,
      "outputs": []
    },
    {
      "cell_type": "code",
      "metadata": {
        "id": "t79QB9lwhPom"
      },
      "source": [
        "def clean(sentence):\n",
        "    lem = WordNetLemmatizer()\n",
        "    sentence = sentence.lower()\n",
        "    sentence = re.sub(r'http\\S+',' ',sentence)\n",
        "    sentence = re.sub(r'[^a-zA-Z]',' ',sentence)\n",
        "    sentence = sentence.split()\n",
        "    sentence = [lem.lemmatize(word) for word in sentence if word not in stopwords.words('english')]\n",
        "    sentence = ' '.join(sentence)\n",
        "    return sentence"
      ],
      "execution_count": null,
      "outputs": []
    },
    {
      "cell_type": "code",
      "metadata": {
        "id": "_a5mTfgwiCWq"
      },
      "source": [
        "def average_vector(sentence):\n",
        "    words = sentence.split()\n",
        "    size = len(words)\n",
        "    average_vector = np.zeros((size,100))\n",
        "    unknown_words=[]\n",
        "\n",
        "    for index, word in enumerate(words):\n",
        "        try:\n",
        "            average_vector[index] = embeddings[word].reshape(1,-1)\n",
        "        except Exception as e:\n",
        "            unknown_words.append(word)\n",
        "            average_vector[index] = 0\n",
        "\n",
        "    if size != 0:\n",
        "        average_vector = sum(average_vector)/size\n",
        "    return average_vector,unknown_words"
      ],
      "execution_count": null,
      "outputs": []
    },
    {
      "cell_type": "code",
      "metadata": {
        "id": "4_znOVN9l2OW"
      },
      "source": [
        "def cosine_similarity(s1, s2):\n",
        "    v1, _ = average_vector(s1)\n",
        "    v2, _ = average_vector(s2)\n",
        "    cos_sim = 0\n",
        "    try:\n",
        "        cos_sim = (np.dot(v1,v2)/(np.linalg.norm(v1)*np.linalg.norm(v2)))\n",
        "    except Exception as e :\n",
        "        pass\n",
        "    return cos_sim"
      ],
      "execution_count": null,
      "outputs": []
    },
    {
      "cell_type": "code",
      "metadata": {
        "id": "jofUaB8qmx17"
      },
      "source": [
        "sentences = sent_tokenize(paragraph)\n",
        "cleaned_sentences=[]\n",
        "for sentence in sentences:\n",
        "    cleaned_sentences.append(clean(sentence))\n",
        "similarity_matrix = np.zeros((len(cleaned_sentences),len(cleaned_sentences)))\n",
        "\n",
        "for i in range(0,len(cleaned_sentences)):\n",
        "    for j in range(0,len(cleaned_sentences)):\n",
        "        if type(cosine_similarity(cleaned_sentences[i],cleaned_sentences[j])) == np.float64 :\n",
        "            similarity_matrix[i,j] = cosine_similarity(cleaned_sentences[i],cleaned_sentences[j])"
      ],
      "execution_count": null,
      "outputs": []
    },
    {
      "cell_type": "code",
      "metadata": {
        "colab": {
          "base_uri": "https://localhost:8080/"
        },
        "id": "PD-eyBwJnu_L",
        "outputId": "dd3b923c-68e1-4bb7-f1c5-a2ce0ff14b8e"
      },
      "source": [
        "similarity_matrix"
      ],
      "execution_count": null,
      "outputs": [
        {
          "output_type": "execute_result",
          "data": {
            "text/plain": [
              "array([[1.        , 0.89669605, 0.86672357, ..., 0.76367769, 0.93789143,\n",
              "        0.880728  ],\n",
              "       [0.89669605, 1.        , 0.81797652, ..., 0.83477938, 0.88975919,\n",
              "        0.90670369],\n",
              "       [0.86672357, 0.81797652, 1.        , ..., 0.75647581, 0.81650643,\n",
              "        0.83164471],\n",
              "       ...,\n",
              "       [0.76367769, 0.83477938, 0.75647581, ..., 1.        , 0.79897803,\n",
              "        0.8265946 ],\n",
              "       [0.93789143, 0.88975919, 0.81650643, ..., 0.79897803, 1.        ,\n",
              "        0.90942292],\n",
              "       [0.880728  , 0.90670369, 0.83164471, ..., 0.8265946 , 0.90942292,\n",
              "        1.        ]])"
            ]
          },
          "metadata": {
            "tags": []
          },
          "execution_count": 13
        }
      ]
    },
    {
      "cell_type": "code",
      "metadata": {
        "id": "XSaIfpx6nyk2"
      },
      "source": [
        "nx_graph = nx.from_numpy_array(similarity_matrix)\n",
        "scores = nx.pagerank(nx_graph)"
      ],
      "execution_count": null,
      "outputs": []
    },
    {
      "cell_type": "code",
      "metadata": {
        "id": "Mr6WbLB1oSS0"
      },
      "source": [
        "ranked_sentences = sorted(((scores[i],s) for i,s in enumerate(sentences)), reverse=True)"
      ],
      "execution_count": null,
      "outputs": []
    },
    {
      "cell_type": "code",
      "metadata": {
        "colab": {
          "base_uri": "https://localhost:8080/"
        },
        "id": "oFOtkQR9og-k",
        "outputId": "1753da48-84a5-4647-e7c2-b57acb79c5b5"
      },
      "source": [
        "# Specify number of sentences\n",
        "sn = 10\n",
        "\n",
        "# Generate summary\n",
        "for i in range(sn):\n",
        "  print(ranked_sentences[i][1])"
      ],
      "execution_count": null,
      "outputs": [
        {
          "output_type": "stream",
          "text": [
            "The honorific Netaji , first applied in early 1942 to Bose in Germany by the Indian soldiers of the Indische Legion and by the German and Indian officials in the Special Bureau for India in Berlin, was later used throughout India.\n",
            "He founded the Free India Center in Berlin, and created the Indian Legion out of Indian prisoners of war who had previously fought for the British in North Africa prior to their capture by Axis forces.\n",
            "Subhas Chandra Bose was an Indian nationalist whose defiant patriotism made him a hero in India, but whose attempt during World War II to rid India of British rule with the help of Nazi Germany and Imperial Japan left a troubled legacy.\n",
            "With Imperial Japanese assistance, he re-organised and later led the Azad Hind Fauj or Indian National Army , formed with Indian prisoners-of-war and plantation workers from British Malaya, Singapore, and other parts of Southeast Asia, against British forces.\n",
            "Spoken as a part of a motivational speech for the Indian National Army at a rally of Indians in Burma on 4 July 1944, Bose's most famous quote was \"Give me blood, and I shall give you freedom!\"\n",
            "On 22 June 1939 Bose organised the All India Forward Bloc a faction within the Indian National Congress, aimed at consolidating the political left, but its main strength was in his home state, Bengal.\n",
            "During this operation, On 6 July 1944, in a speech broadcast by the Azad Hind Radio from Singapore, Bose addressed Mahatma Gandhi as the \"Father of the Nation\" and asked for his blessings and good wishes for the war he was fighting.\n",
            "At the outset of the war, he left India, travelling to the Soviet Union, Nazi Germany and Imperial Japan, seeking an alliance with each of them to attack the British government in India.\n",
            "A 3,000-strong Free India Legion, comprising Indians captured by Erwin Rommel's Afrika Korps, was also formed to aid in a possible future German land invasion of India.\n",
            "By spring 1942, in light of Japanese victories in southeast Asia and changing German priorities, a German invasion of India became untenable, and Bose became keen to move to southeast Asia.\n"
          ],
          "name": "stdout"
        }
      ]
    },
    {
      "cell_type": "code",
      "metadata": {
        "id": "v1Z-GO79qMjk"
      },
      "source": [
        "def textrank_summarise(paragraph, no_of_sentences):\n",
        "    \n",
        "    sentences = sent_tokenize(paragraph)\n",
        "    cleaned_sentences=[]\n",
        "    for sentence in sentences:\n",
        "        cleaned_sentences.append(clean(sentence))\n",
        "    similarity_matrix = np.zeros((len(cleaned_sentences),len(cleaned_sentences)))\n",
        "\n",
        "    for i in range(0,len(cleaned_sentences)):\n",
        "        for j in range(0,len(cleaned_sentences)):\n",
        "            if type(cosine_similarity(cleaned_sentences[i],cleaned_sentences[j])) == np.float64 :\n",
        "                similarity_matrix[i,j] = cosine_similarity(cleaned_sentences[i],cleaned_sentences[j])\n",
        "    \n",
        "    nx_graph = nx.from_numpy_array(similarity_matrix)\n",
        "    scores = nx.pagerank(nx_graph)\n",
        "\n",
        "    ranked_sentences = sorted(((scores[i],s) for i,s in enumerate(sentences)), reverse=True)\n",
        "\n",
        "    summary = \"\"\n",
        "    \n",
        "    for i in range(no_of_sentences):\n",
        "      summary+=ranked_sentences[i][1]\n",
        "    \n",
        "    summary = summary.strip()\n",
        "    \n",
        "    return summary"
      ],
      "execution_count": null,
      "outputs": []
    },
    {
      "cell_type": "code",
      "metadata": {
        "id": "2oaItK-SrIhR"
      },
      "source": [
        "\n",
        "par = \"Keeping with his practice of spending time with soldiers on Diwali, Prime Minister Narendra Modi on Saturday addressed troops at Longewala Post in which he asserted that India will give “prachand jawab” (fierce reply) if it is provoked. Mr. Modi said, without naming any country, that the entire world feels troubled by “expansionist” forces and expansionism shows a “distorted mindset” which belongs to 18th century. “India believes in policy of understanding others and making them understand but if an attempt to test it is made, then the country will give a fierce reply,” he asserted. His message comes amid the continuing standoff with China at Ladakh border. “No force in the world can prevent our soldiers from protecting our borders,” he said, adding that India has shown that it has strength and the political will to give a befitting reply to those challenging it. “The world now knows that India will not compromise with its interests even one bit,” he said. Also read | Adversaries may take advantage if we do not have strong armed forces: Gen. Bipin Rawat Referring to his custom of celebrating Diwali with soldiers since he assumed office in 2014, Mr. Modi said his resolve to serve and protect the country becomes stronger by spending more time with them. He also urged troops to innovate, practise yoga and learn an Indian language they don’t know from colleagues. On the occasion, he recalled the fierce fight the post had witnessed in the 1971 war against Pakistan and paid tributes to Brig Kuldeep Singh Chandpuri, a hero of the battle, saying he became “rashtra deep” with his feat of bravery. The war was also an example of exemplary coordination among Army, Navy and Air Force, he said. India had defeated Pakistan in the war, leading to the independence of Bangladesh. Keeping with his practice of spending time with soldiers on Diwali, Prime Minister Narendra Modi on Saturday addressed troops at Longewala Post in which he asserted that India will give “prachand jawab” if it is provoked. Mr. Modi said, without naming any country, that the entire world feels troubled by “expansionist” forces and expansionism shows a “distorted mindset” which belongs to 18th century. “India believes in policy of understanding others and making them understand but if an attempt to test it is made, then the country will give a fierce reply,” he asserted. “No force in the world can prevent our soldiers from protecting our borders,” he said, adding that India has shown that it has strength and the political will to give a befitting reply to those challenging it. “The world now knows that India will not compromise with its interests even one bit,” he said.\"\n",
        "summ = textrank_summarise(par, 10)"
      ],
      "execution_count": null,
      "outputs": []
    },
    {
      "cell_type": "code",
      "metadata": {
        "id": "QenDd4LQrRnH"
      },
      "source": [
        "def rouge(original, generated):\n",
        "    rouge = Rouge()\n",
        "    score = rouge.get_scores(original,generated)\n",
        "    rouge1f = score[0]['rouge-1']['f']\n",
        "    rouge1p = score[0]['rouge-1']['p']\n",
        "    rouge1r = score[0]['rouge-1']['r']\n",
        "    rouge2f = score[0]['rouge-2']['f']\n",
        "    rouge2p = score[0]['rouge-2']['p']\n",
        "    rouge2r = score[0]['rouge-2']['r']\n",
        "    rougelf = score[0]['rouge-l']['f']\n",
        "    rougelp = score[0]['rouge-l']['p']\n",
        "    rougelr = score[0]['rouge-l']['r']\n",
        "    \n",
        "    return (rouge1f, rouge1p, rouge1r), (rouge2f, rouge2p, rouge2r), (rougelf, rougelp, rougelr)"
      ],
      "execution_count": null,
      "outputs": []
    },
    {
      "cell_type": "code",
      "metadata": {
        "colab": {
          "base_uri": "https://localhost:8080/"
        },
        "id": "LrjEETXMreds",
        "outputId": "8ecc8ad7-0fb9-4690-a970-f8beb6bfb793"
      },
      "source": [
        "(f11, precision1, recall1), (f12, precision2, recall2), (f1l, precisionl, recalll)  = rouge(par, summ)\n",
        "\n",
        "print(f\"ROUGE-1 Scores\\nPrecision: {precision1}\\nRecall: {recall1}\\nF-1 Score: {f11}\\n\\n\")\n",
        "print(f\"ROUGE-2 Scores\\nPrecision: {precision2}\\nRecall: {recall2}\\nF-1 Score: {f12}\\n\\n\")\n",
        "print(f\"ROUGE-L Scores\\nPrecision: {precisionl}\\nRecall: {recalll}\\nF-1 Score: {f1l}\")"
      ],
      "execution_count": null,
      "outputs": [
        {
          "output_type": "stream",
          "text": [
            "ROUGE-1 Scores\n",
            "Precision: 0.6948775055679287\n",
            "Recall: 1.0\n",
            "F-1 Score: 0.8199737139531117\n",
            "\n",
            "\n",
            "ROUGE-2 Scores\n",
            "Precision: 0.6741071428571429\n",
            "Recall: 0.9710610932475884\n",
            "F-1 Score: 0.7957839213816114\n",
            "\n",
            "\n",
            "ROUGE-L Scores\n",
            "Precision: 0.6852791878172588\n",
            "Recall: 1.0\n",
            "F-1 Score: 0.813253007222565\n"
          ],
          "name": "stdout"
        }
      ]
    },
    {
      "cell_type": "code",
      "metadata": {
        "id": "4xbYRuU1rj3G"
      },
      "source": [
        "url = \"https://apnews.com/article/cargo-ship-stuck-suez-canal-egypt-d8b6696716ab45794cba583ecf0e4001\" # Example news article\n",
        "article = Article(url)\n",
        "article.download()\n",
        "article.parse()"
      ],
      "execution_count": null,
      "outputs": []
    },
    {
      "cell_type": "code",
      "metadata": {
        "colab": {
          "base_uri": "https://localhost:8080/",
          "height": 35
        },
        "id": "WzOnkU267Aix",
        "outputId": "5a6544f1-2801-4ed9-a46a-c0640891b4c7"
      },
      "source": [
        "article.title"
      ],
      "execution_count": null,
      "outputs": [
        {
          "output_type": "execute_result",
          "data": {
            "application/vnd.google.colaboratory.intrinsic+json": {
              "type": "string"
            },
            "text/plain": [
              "'Shipping losses mount from cargo vessel stuck in Suez Canal'"
            ]
          },
          "metadata": {
            "tags": []
          },
          "execution_count": 22
        }
      ]
    },
    {
      "cell_type": "code",
      "metadata": {
        "colab": {
          "base_uri": "https://localhost:8080/"
        },
        "id": "KP7BQCvnuL2a",
        "outputId": "bb24c747-aaea-47bd-ecd6-12d51641878d"
      },
      "source": [
        "article.authors"
      ],
      "execution_count": null,
      "outputs": [
        {
          "output_type": "execute_result",
          "data": {
            "text/plain": [
              "['Jon Gambrell', 'Samy Magdy']"
            ]
          },
          "metadata": {
            "tags": []
          },
          "execution_count": 23
        }
      ]
    },
    {
      "cell_type": "code",
      "metadata": {
        "colab": {
          "base_uri": "https://localhost:8080/"
        },
        "id": "l5wrMtgKuP2j",
        "outputId": "09ae59e1-d150-4db0-9e74-3ef3365a57d4"
      },
      "source": [
        "article.publish_date"
      ],
      "execution_count": null,
      "outputs": [
        {
          "output_type": "execute_result",
          "data": {
            "text/plain": [
              "datetime.datetime(2021, 3, 25, 3, 3, 41, tzinfo=tzlocal())"
            ]
          },
          "metadata": {
            "tags": []
          },
          "execution_count": 24
        }
      ]
    },
    {
      "cell_type": "code",
      "metadata": {
        "colab": {
          "base_uri": "https://localhost:8080/"
        },
        "id": "FlIvQt0YuWeO",
        "outputId": "f32a46c3-4775-4780-d146-7c05703aaa5c"
      },
      "source": [
        "nos = len(sent_tokenize(article.text))\n",
        "nos"
      ],
      "execution_count": null,
      "outputs": [
        {
          "output_type": "execute_result",
          "data": {
            "text/plain": [
              "54"
            ]
          },
          "metadata": {
            "tags": []
          },
          "execution_count": 25
        }
      ]
    },
    {
      "cell_type": "code",
      "metadata": {
        "id": "DBZkyivUu-_H"
      },
      "source": [
        "summ2 = textrank_summarise(article.text, len(sent_tokenize(article.text))//3)"
      ],
      "execution_count": null,
      "outputs": []
    },
    {
      "cell_type": "code",
      "metadata": {
        "colab": {
          "base_uri": "https://localhost:8080/"
        },
        "id": "kQ35RkLDvM0o",
        "outputId": "63a9aea5-3f54-4e31-8b44-dbbee304c7ed"
      },
      "source": [
        "print(summ2)"
      ],
      "execution_count": null,
      "outputs": [
        {
          "output_type": "stream",
          "text": [
            "Cargo ships already behind the Ever Given in the canal will be reversed south back to Port Suez to free the channel, Leth Agencies said.“The effect is not only going to be the simple, immediate one with cargo being delayed over the next few weeks, but will actually have repercussions several months down the line for the supply chain.”\n",
            "\n",
            "Evergreen Marine Corp., a major Taiwan-based shipping company that operates the ship, said the Ever Given had been overcome by strong winds as it entered the canal, something Egyptian officials earlier said as well.“We would like to apologize to all parties affected by this incident, including the ships travelling and planning to travel through Suez Canal.”\n",
            "\n",
            "As efforts to free it resumed at daylight Thursday, an Egyptian canal authority official said workers hoped to avoid offloading containers from the vessel as it would take days to do so and extend the closure.A quarter of all Suez Canal traffic a day comes from container ships like the Ever Given, the journal said.Canal service provider Leth Agencies said at least 150 ships were waiting for the Ever Given to be cleared, including vessels near Port Said on the Mediterranean Sea, Port Suez on the Red Sea and those already stuck in the canal system on Egypt’s Great Bitter Lake.A team from Boskalis, a Dutch firm specialized in salvaging, arrived at the canal Thursday, although one of its top officials warned removing the vessel could take “days to weeks.”\n",
            "\n",
            "A team from the Boskalis subsidiary SMIT “spent the day doing inspections and doing calculations to assess the state of the vessel and a plan on how to refloat the vessel,” spokesman Martijn Schuttevaer told the AP.The Suez Canal Authority said one idea the team discussed was scraping the bottom of the canal around the ship.Even helped by high tides, authorities have been unable to push the Panama-flagged container vessel aside, and they are looking for new ideas to free it.The skyscraper-sized cargo ship wedged across Egypt's Suez Canal further imperiled global shipping Thursday as at least 150 other vessels needing to pass through the crucial waterway idled waiting for the obstruction to clear, authorities said.The skyscraper-sized cargo ship wedged across Egypt's Suez Canal further imperiled global shipping Thursday as at least 150 other vessels needing to pass through the crucial waterway idled waiting for the obstruction to clear, authorities said.The vessel remained stuck as of Thursday night despite “continuous” efforts to refloat it, according to canal service provider Leth Agencies.The skyscraper-sized Ever Given, carrying cargo between Asia and Europe, ran aground Tuesday in the narrow, man-made canal dividing continental Africa from the Sinai Peninsula.The ship had two pilots from Egypt’s canal authority aboard the vessel to guide it when the grounding happened around 7:45 a.m. Tuesday, Bernhard Schulte Shipmanagement said.Some vessels could still change course, but the crush of ships listing the Suez Canal as their destination shows an even-greater backlog looms for shippers already under pressure amid the coronavirus pandemic.This satellite image from Cnes2021, Distribution Airbus DS, shows the cargo ship MV Ever Given stuck in the Suez Canal near Suez, Egypt, Thursday, March 25, 2021.Using data from Automatic Identification System trackers on ships at sea, data firm Refinitiv shared an analysis with the AP showing over 300 ships remained on the way to the waterway over the next two weeks.Bernhard Schulte Shipmanagement, the company that manages the Ever Given, said they were focusing on dredging to remove sand and mud from around the port side of the vessel’s bow.However, the Ever Given ran aground south of that new portion of the canal.\n"
          ],
          "name": "stdout"
        }
      ]
    },
    {
      "cell_type": "code",
      "metadata": {
        "colab": {
          "base_uri": "https://localhost:8080/"
        },
        "id": "DwlcK_BqvOrE",
        "outputId": "cf518803-ec72-4dab-ea9c-fd1c49851019"
      },
      "source": [
        "type(summ2)"
      ],
      "execution_count": null,
      "outputs": [
        {
          "output_type": "execute_result",
          "data": {
            "text/plain": [
              "str"
            ]
          },
          "metadata": {
            "tags": []
          },
          "execution_count": 28
        }
      ]
    },
    {
      "cell_type": "code",
      "metadata": {
        "id": "vX6MfcsmwA-d"
      },
      "source": [
        "data = article.text.splitlines()\n",
        "del data[0:4]\n",
        "ftext = ' '.join(data)"
      ],
      "execution_count": null,
      "outputs": []
    },
    {
      "cell_type": "code",
      "metadata": {
        "id": "AsdoQQHuwB4o"
      },
      "source": [
        "summ3 = summarize(ftext, ratio=0.333) # Gensim's summarization function"
      ],
      "execution_count": null,
      "outputs": []
    },
    {
      "cell_type": "code",
      "metadata": {
        "colab": {
          "base_uri": "https://localhost:8080/"
        },
        "id": "4gBWfBczAdMe",
        "outputId": "6873cc9a-ae34-4de8-ad48-a787ed07f946"
      },
      "source": [
        "print(summ3)"
      ],
      "execution_count": null,
      "outputs": [
        {
          "output_type": "stream",
          "text": [
            "ISMAILIA, Egypt (AP) — Dredgers, tugboats and even a backhoe failed to free a giant cargo ship wedged in Egypt’s Suez Canal on Thursday.\n",
            "The skyscraper-sized Ever Given, carrying cargo between Asia and Europe, ran aground Tuesday in the narrow, man-made canal dividing continental Africa from the Sinai Peninsula.\n",
            "Even helped by high tides, authorities have been unable to push the Panama-flagged container vessel aside, and they are looking for new ideas to free it.\n",
            "“We would like to apologize to all parties affected by this incident, including the ships travelling and planning to travel through Suez Canal.”  As efforts to free it resumed at daylight Thursday, an Egyptian canal authority official said workers hoped to avoid offloading containers from the vessel as it would take days to do so and extend the closure.\n",
            "The vessel remained stuck as of Thursday night despite “continuous” efforts to refloat it, according to canal service provider Leth Agencies.\n",
            "Osama Rabei, the head of the canal authority, said navigation through the waterway would remain halted until the Ever Given is refloated.\n",
            "A team from Boskalis, a Dutch firm specialized in salvaging, arrived at the canal Thursday, although one of its top officials warned removing the vessel could take “days to weeks.”  A team from the Boskalis subsidiary SMIT “spent the day doing inspections and doing calculations to assess the state of the vessel and a plan on how to refloat the vessel,” spokesman Martijn Schuttevaer told the AP.\n",
            "The Suez Canal Authority said one idea the team discussed was scraping the bottom of the canal around the ship.\n",
            "Bernhard Schulte Shipmanagement, the company that manages the Ever Given, said they were focusing on dredging to remove sand and mud from around the port side of the vessel’s bow.\n",
            "“BSM’s continuing priorities are to safely re-float the vessel and for marine traffic in the Suez Canal to resume,” it said without providing timeframe.\n",
            "The ship had two pilots from Egypt’s canal authority aboard the vessel to guide it when the grounding happened around 7:45 a.m. Tuesday, Bernhard Schulte Shipmanagement said.\n",
            "Canal service provider Leth Agencies said at least 150 ships were waiting for the Ever Given to be cleared, including vessels near Port Said on the Mediterranean Sea, Port Suez on the Red Sea and those already stuck in the canal system on Egypt’s Great Bitter Lake.\n",
            "Cargo ships already behind the Ever Given in the canal will be reversed south back to Port Suez to free the channel, Leth Agencies said.\n",
            "“The effect is not only going to be the simple, immediate one with cargo being delayed over the next few weeks, but will actually have repercussions several months down the line for the supply chain.”  Evergreen Marine Corp., a major Taiwan-based shipping company that operates the ship, said the Ever Given had been overcome by strong winds as it entered the canal, something Egyptian officials earlier said as well.\n",
            "In Japan, Chief Cabinet Secretary Katsunobu Kato told reporters the Suez Canal is part of a crucial international sea lane, and that the Japanese government was gathering information and working with local authorities.\n",
            "A quarter of all Suez Canal traffic a day comes from container ships like the Ever Given, the journal said.\n"
          ],
          "name": "stdout"
        }
      ]
    },
    {
      "cell_type": "markdown",
      "metadata": {
        "id": "nhGxOPP42wdw"
      },
      "source": [
        "##Results"
      ]
    },
    {
      "cell_type": "code",
      "metadata": {
        "colab": {
          "base_uri": "https://localhost:8080/"
        },
        "id": "9hJtKbkKvj9k",
        "outputId": "ad7feae6-1bfb-4f46-f84a-b4ebfb4a32b3"
      },
      "source": [
        "(f11, precision1, recall1), (f12, precision2, recall2), (f1l, precisionl, recalll)  = rouge(article.text, summ2)\n",
        "\n",
        "print(f\"ROUGE-1 Scores\\nPrecision: {precision1}\\nRecall: {recall1}\\nF-1 Score: {f11}\\n\\n\")\n",
        "print(f\"ROUGE-2 Scores\\nPrecision: {precision2}\\nRecall: {recall2}\\nF-1 Score: {f12}\\n\\n\")\n",
        "print(f\"ROUGE-L Scores\\nPrecision: {precisionl}\\nRecall: {recalll}\\nF-1 Score: {f1l}\")"
      ],
      "execution_count": null,
      "outputs": [
        {
          "output_type": "stream",
          "text": [
            "ROUGE-1 Scores\n",
            "Precision: 0.47228549734244496\n",
            "Recall: 1.0\n",
            "F-1 Score: 0.6415678141054936\n",
            "\n",
            "\n",
            "ROUGE-2 Scores\n",
            "Precision: 0.46048632218844987\n",
            "Recall: 0.9758454106280193\n",
            "F-1 Score: 0.6257098562528849\n",
            "\n",
            "\n",
            "ROUGE-L Scores\n",
            "Precision: 0.4951923076923077\n",
            "Recall: 1.0\n",
            "F-1 Score: 0.6623794167918033\n"
          ],
          "name": "stdout"
        }
      ]
    },
    {
      "cell_type": "code",
      "metadata": {
        "colab": {
          "base_uri": "https://localhost:8080/"
        },
        "id": "xI3-SJ46wO0Q",
        "outputId": "e270f386-1802-421c-c259-3fcde9aaced5"
      },
      "source": [
        "(f11, precision1, recall1), (f12, precision2, recall2), (f1l, precisionl, recalll)  = rouge(ftext, summ3)\n",
        "\n",
        "print(f\"ROUGE-1 Scores\\nPrecision: {precision1}\\nRecall: {recall1}\\nF-1 Score: {f11}\\n\\n\")\n",
        "print(f\"ROUGE-2 Scores\\nPrecision: {precision2}\\nRecall: {recall2}\\nF-1 Score: {f12}\\n\\n\")\n",
        "print(f\"ROUGE-L Scores\\nPrecision: {precisionl}\\nRecall: {recalll}\\nF-1 Score: {f1l}\")"
      ],
      "execution_count": null,
      "outputs": [
        {
          "output_type": "stream",
          "text": [
            "ROUGE-1 Scores\n",
            "Precision: 0.46140797285835455\n",
            "Recall: 1.0\n",
            "F-1 Score: 0.6314567571416859\n",
            "\n",
            "\n",
            "ROUGE-2 Scores\n",
            "Precision: 0.4533106960950764\n",
            "Recall: 0.9834254143646409\n",
            "F-1 Score: 0.620569432054901\n",
            "\n",
            "\n",
            "ROUGE-L Scores\n",
            "Precision: 0.4991652754590985\n",
            "Recall: 1.0\n",
            "F-1 Score: 0.6659242717272981\n"
          ],
          "name": "stdout"
        }
      ]
    },
    {
      "cell_type": "markdown",
      "metadata": {
        "id": "IYNHW-Fpx7Yn"
      },
      "source": [
        "summ2 was the summary generated using our own textrank_summarize function.\n",
        "summ3 was the summary generated using the summarize function from gensim library. Both had same ratio: 0.33.\n",
        "As we can see from the rouge scores above, our method has comparable summarization quality to that generated from gensim. However, the gensim function provides a more fluent and human-like summary"
      ]
    }
  ]
}